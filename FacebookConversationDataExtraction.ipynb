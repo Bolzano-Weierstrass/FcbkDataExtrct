{
 "cells": [
  {
   "cell_type": "markdown",
   "metadata": {},
   "source": [
    "# Study of a Facebook messenger conversation"
   ]
  },
  {
   "cell_type": "code",
   "execution_count": null,
   "metadata": {},
   "outputs": [],
   "source": [
    "from bs4 import BeautifulSoup\n",
    "import urllib\n",
    "\n",
    "yourName = 'Thomas Marchand'\n",
    "url = r\"YOURPATH/13.html\"\n",
    "page = open(url, encoding=\"utf8\")\n",
    "soup = BeautifulSoup(page.read(), 'lxml')\n"
   ]
  },
  {
   "cell_type": "markdown",
   "metadata": {},
   "source": [
    "### Getting the conversation name & participants"
   ]
  },
  {
   "cell_type": "code",
   "execution_count": null,
   "metadata": {},
   "outputs": [],
   "source": [
    "def getConvName(soup):\n",
    "    nameConv = soup.h3.get_text()\n",
    "    return(nameConv)"
   ]
  },
  {
   "cell_type": "code",
   "execution_count": null,
   "metadata": {},
   "outputs": [],
   "source": []
  },
  {
   "cell_type": "code",
   "execution_count": null,
   "metadata": {},
   "outputs": [],
   "source": [
    "def getListParticipants(soup):\n",
    "    \n",
    "    def getStringParticipants(soup):\n",
    "        stringClassThread = str(soup\\\n",
    "                            .find_all(\"div\", class_=\"thread\")\n",
    "                           )\n",
    "        intermediate = stringClassThread.split('</h3>')\n",
    "        return(intermediate[1]\\\n",
    "               .split('<div class=\"message\">')[0]\n",
    "              )\n",
    "    \n",
    "    stringClassThread = str(soup\\\n",
    "                        .find_all(\"div\", class_=\"thread\")\n",
    "                       )\n",
    "    stringParticipants = getStringParticipants(soup)\n",
    "    listParticipants = stringParticipants.split(\",\")\n",
    "    listParticipants[0] = listParticipants[0].split(\":\")[1]\n",
    "    listParticipants = [Participant[1:] \n",
    "                    for Participant in listParticipants]\n",
    "    listParticipants.append(yourName)\n",
    "    return(listParticipants)"
   ]
  },
  {
   "cell_type": "markdown",
   "metadata": {},
   "source": [
    "### Getting the number of messages"
   ]
  },
  {
   "cell_type": "code",
   "execution_count": null,
   "metadata": {},
   "outputs": [],
   "source": [
    "def getNumberOfMessage(soup):\n",
    "    return(len(soup.find_all(\"div\", class_=\"message\")))"
   ]
  },
  {
   "cell_type": "code",
   "execution_count": null,
   "metadata": {},
   "outputs": [],
   "source": [
    "def getWriter(soup, messageIndex):\n",
    "    return(soup\\\n",
    "           .find_all(\"div\", class_=\"message\")[messageIndex]\\\n",
    "           .find_all(\"span\", class_=\"user\")[0].get_text())"
   ]
  },
  {
   "cell_type": "code",
   "execution_count": null,
   "metadata": {},
   "outputs": [],
   "source": [
    "def getNumberOfMessgePerUser(soup):\n",
    "    userList = getListParticipants(soup)\n",
    "    userActivityDict = {u:0 for u in userList}\n",
    "    allMessages = (soup\\\n",
    "           .find_all(\"div\", class_=\"message\"))\n",
    "    for i in range(getNumberOfMessage(soup)):\n",
    "        tempWriter = allMessages[i]\\\n",
    "                .find_all(\"span\", class_=\"user\")[0]\\\n",
    "                .get_text()\n",
    "        if tempWriter not in userActivityDict:\n",
    "            userActivityDict[tempWriter] = 0\n",
    "        userActivityDict[tempWriter] += 1\n",
    "    return(userActivityDict)"
   ]
  }
 ],
 "metadata": {
  "kernelspec": {
   "display_name": "Python 3",
   "language": "python",
   "name": "python3"
  },
  "language_info": {
   "codemirror_mode": {
    "name": "ipython",
    "version": 3
   },
   "file_extension": ".py",
   "mimetype": "text/x-python",
   "name": "python",
   "nbconvert_exporter": "python",
   "pygments_lexer": "ipython3",
   "version": "3.6.2"
  }
 },
 "nbformat": 4,
 "nbformat_minor": 2
}
